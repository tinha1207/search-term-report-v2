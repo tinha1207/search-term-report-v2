{
 "cells": [
  {
   "cell_type": "markdown",
   "id": "183b4f20-ce4a-4606-bdd3-b70602329baa",
   "metadata": {},
   "source": [
    "# Search Term Ranker"
   ]
  },
  {
   "cell_type": "markdown",
   "id": "08334a81-934f-44a6-9bd7-434974a6b5b8",
   "metadata": {},
   "source": [
    "## Search Term Params"
   ]
  },
  {
   "cell_type": "code",
   "execution_count": null,
   "id": "630836a2-7748-4939-8138-e47853a4815c",
   "metadata": {},
   "outputs": [],
   "source": [
    "file = r\"C:\\Users\\Tin Ha\\Downloads\\Tin 7D ST Report (13).xlsx\" # Input File\n",
    "new_file = \"test2.xlsx\" # Output File Name\n",
    "\n",
    "min_cvr = .1         \n",
    "min_acos = .001      \n",
    "max_acos = .3        \n",
    "min_clicks = 14      \n",
    "min_orders = 2\n",
    "\n",
    "BANNED_CHARS_LIST = [\n",
    "    \"/\",\n",
    "    \"-\"\n",
    "]\n",
    "BANNED_CHARS = \"|\".join(BANNED_CHARS_LIST)\n"
   ]
  },
  {
   "cell_type": "markdown",
   "id": "5de84dcc-21f3-43eb-b102-452e2e874a73",
   "metadata": {},
   "source": [
    "### Import 7 Day ST Report"
   ]
  },
  {
   "cell_type": "code",
   "execution_count": null,
   "id": "6c576699-9509-48a9-87b3-7ceee137f9f0",
   "metadata": {},
   "outputs": [],
   "source": [
    "import pandas as pd\n",
    "import datetime as dt\n",
    "import os\n",
    "\n",
    "from config import create_ods_clickhouse_engine\n",
    "\n",
    "def get_today():\n",
    "    date = dt.date.today()\n",
    "    date = date.strftime(\"%Y-%m-%d\")\n",
    "    return date\n",
    "\n",
    "\n",
    "\n",
    "def get_productads(date, sales_channel_id=1111, market=\"US\"):\n",
    "    params = {\n",
    "        \"date\":date,\n",
    "        \"sales_channel_id\":sales_channel_id,\n",
    "        \"market\":market\n",
    "    }\n",
    "    query = \"\"\"\n",
    "        SELECT p.asin as asin, p.sku as sku, p.adgroupid as adgroupid, a.name as adgroupname,  c.name as campaignname\n",
    "        FROM ods.amz_ads_sp_productads p\n",
    "        LEFT JOIN ods.amz_ads_sp_adgroups a\n",
    "        ON a.adgroupid = p.adgroupid\n",
    "        LEFT JOIN ods.amz_ads_sp_campaigns c\n",
    "        ON c.campaignid = p.campaignid\n",
    "        WHERE a.sales_channel_id = %(sales_channel_id)s\n",
    "        AND p.sales_channel_id = %(sales_channel_id)s\n",
    "        AND c.sales_channel_id = %(sales_channel_id)s\n",
    "        AND a.date = %(date)s\n",
    "        AND c.date = %(date)s\n",
    "        AND p.date = %(date)s\n",
    "        AND a.market = %(market)s\n",
    "        AND c.market = %(market)s\n",
    "        AND p.market = %(market)s\n",
    "        AND p.state != 'archived'\n",
    "        and a.state != 'archived'\n",
    "        and c.state != 'archived'\n",
    "        and p.asin IS NOT NULL         \n",
    "        AND p.campaignid in (\n",
    "            SELECT campaignid \n",
    "            FROM ods.amz_ads_sp_campaigns\n",
    "            WHERE date = %(date)s\n",
    "            AND state != 'archived'\n",
    "            AND market = %(market)s\n",
    "            AND sales_channel_id = %(sales_channel_id)s\n",
    "        )\n",
    "\"\"\"\n",
    "    df = pd.read_sql(query,create_ods_clickhouse_engine(),params=params)\n",
    "    return df\n"
   ]
  },
  {
   "cell_type": "code",
   "execution_count": null,
   "id": "8a7ed185-d35e-4bbf-8822-53819c56f54a",
   "metadata": {},
   "outputs": [],
   "source": [
    "today = get_today()\n",
    "df = get_productads(today)\n",
    "df2 = pd.read_excel(file, parse_dates=[\"Date\"])"
   ]
  },
  {
   "cell_type": "code",
   "execution_count": null,
   "id": "3b9adeeb-f9a9-4493-8261-f0ed5c72ab53",
   "metadata": {},
   "outputs": [],
   "source": [
    "BANNED_CHARS_LIST = [\n",
    "    \"/\",\n",
    "    \"-\"\n",
    "]\n",
    "BANNED_CHARS = \"|\".join(BANNED_CHARS_LIST)\n",
    "\n",
    "df3 = df2[df2[\"Campaign Name\"].str.contains(\"_iso_\",case=False)]\n",
    "df3 = df3[((df3[\"Match Type\"]==\"-\") & (df3[\"Targeting\"]==\"*\")) | (df3[\"Match Type\"]==\"BROAD\")]\n",
    "df3 = df3[~df3[\"Customer Search Term\"].str.contains(BANNED_CHARS)]\n",
    "df3 = df3.rename(columns={\"Ad Group Name\":\"adgroupname\",\"7 Day Advertised SKU Sales \":\"Sales\",\"7 Day Advertised SKU Units (#)\":\"Orders\"})"
   ]
  },
  {
   "cell_type": "code",
   "execution_count": null,
   "id": "a3795bdf-d6b9-4783-9f24-dbd5fe24154d",
   "metadata": {
    "tags": []
   },
   "outputs": [],
   "source": [
    "df_final = df3.merge(df,how=\"inner\")\n",
    "df_final = df_final[[\"Date\",\"asin\",\"Customer Search Term\",\"Impressions\",\"Clicks\",\"Spend\",\"Sales\", \"Orders\"]]\n",
    "df_final"
   ]
  },
  {
   "cell_type": "code",
   "execution_count": null,
   "id": "7e311b52-4d5e-44e0-bae4-2c539b5bdecc",
   "metadata": {},
   "outputs": [],
   "source": [
    "df_final.drop(columns=[\"Date\"],inplace=True)\n",
    "df_pivot = df_final.groupby([\"asin\",\"Customer Search Term\"]).sum()\n",
    "df_pivot[\"CPC\"] = df_pivot.Spend/df_pivot.Clicks\n",
    "df_pivot[\"ACOS\"] = df_pivot.Spend/df_pivot.Sales\n",
    "df_pivot[\"CVR\"] = df_pivot.Orders/df_pivot.Clicks\n"
   ]
  },
  {
   "cell_type": "code",
   "execution_count": null,
   "id": "e7508c10-d6e0-4c20-844a-1cbcc73f40ab",
   "metadata": {},
   "outputs": [],
   "source": [
    "df_pivot.reset_index(drop=False,inplace=True)"
   ]
  },
  {
   "cell_type": "code",
   "execution_count": null,
   "id": "ac36677f-8e98-467e-b70c-c06fe3e38692",
   "metadata": {
    "tags": []
   },
   "outputs": [],
   "source": [
    "df_negative = df_pivot[((df_pivot[\"ACOS\"] == float(\"inf\"))|(df_pivot[\"ACOS\"] >= 1)) & (df_pivot[\"Clicks\"]>=min_clicks)]\n",
    "df_negative.sort_values(by=[\"Spend\"],ascending=False)\n"
   ]
  },
  {
   "cell_type": "code",
   "execution_count": null,
   "id": "35a01dfa-e98f-4766-951a-eb7248f38091",
   "metadata": {},
   "outputs": [],
   "source": [
    "df_good = df_pivot[(df_pivot[\"Clicks\"] >= min_clicks) & (df_pivot.ACOS < max_acos) & (df_pivot.Orders >= min_orders) & (df_pivot.ACOS >= min_acos) & (df_pivot.CVR >= min_cvr)].sort_values([\"Sales\"],ascending=False)\n",
    "\n",
    "\n",
    "\n"
   ]
  },
  {
   "cell_type": "code",
   "execution_count": null,
   "id": "cf323af8-f82b-4352-a3be-789bb38f163d",
   "metadata": {},
   "outputs": [],
   "source": [
    "\n",
    "\n",
    "with pd.ExcelWriter(new_file) as writer:\n",
    "    df_good.to_excel(writer,index=False,sheet_name=\"Good\")\n",
    "    df_negative.to_excel(writer,index=False,sheet_name=\"Negatives\")\n",
    "    df_pivot.to_excel(writer,index=False,sheet_name=\"Raw Data\")\n",
    "\n",
    "os.system(f\"START EXCEL.EXE {new_file}\")"
   ]
  }
 ],
 "metadata": {
  "kernelspec": {
   "display_name": "Python 3 (ipykernel)",
   "language": "python",
   "name": "python3"
  },
  "language_info": {
   "codemirror_mode": {
    "name": "ipython",
    "version": 3
   },
   "file_extension": ".py",
   "mimetype": "text/x-python",
   "name": "python",
   "nbconvert_exporter": "python",
   "pygments_lexer": "ipython3",
   "version": "3.9.9"
  }
 },
 "nbformat": 4,
 "nbformat_minor": 5
}
